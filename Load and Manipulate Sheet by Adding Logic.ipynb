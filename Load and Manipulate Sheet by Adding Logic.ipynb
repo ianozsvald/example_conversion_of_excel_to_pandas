{
 "cells": [
  {
   "cell_type": "markdown",
   "metadata": {},
   "source": [
    "# Load a Sheet, assume there's no logic, we'll add the logic\n",
    "\n",
    "You'll have run `jupyter notebook` at the command line or via the Windows Anaconda tool.\n",
    "\n",
    "In this demo we add logic in place of Excel cell functions and export a finished sheet for comparison."
   ]
  },
  {
   "cell_type": "code",
   "execution_count": 18,
   "metadata": {
    "collapsed": false
   },
   "outputs": [
    {
     "name": "stdout",
     "output_type": "stream",
     "text": [
      "   Feature1  Feature2  DecisionF1F2         TVShow  Decision2  Decision3  \\\n",
      "0       0.6       0.6           NaN      Hollyoaks        NaN        NaN   \n",
      "1       0.4       0.6           NaN      hollyoaks        NaN        NaN   \n",
      "2       0.3       0.4           NaN     Hollyoaks         NaN        NaN   \n",
      "3       0.9       0.8           NaN      hollyoaks        NaN        NaN   \n",
      "4       0.9       0.8           NaN     holly-oaks        NaN        NaN   \n",
      "5       0.9       0.8           NaN  best TV shows        NaN        NaN   \n",
      "\n",
      "                    Comment  \n",
      "0                       NaN  \n",
      "1                       NaN  \n",
      "2  trailing-space on TVShow  \n",
      "3                       NaN  \n",
      "4        badly-spelt TVShow  \n",
      "5                       NaN  \n"
     ]
    }
   ],
   "source": [
    "import pandas as pd\n",
    "\n",
    "df = pd.read_excel(\"sheet_1_without_simple_logic.xls\")\n",
    "print(df)\n",
    "# note the NaN (not-a-number) cells when we have no value"
   ]
  },
  {
   "cell_type": "code",
   "execution_count": 19,
   "metadata": {
    "collapsed": false
   },
   "outputs": [
    {
     "data": {
      "text/html": [
       "<div>\n",
       "<table border=\"1\" class=\"dataframe\">\n",
       "  <thead>\n",
       "    <tr style=\"text-align: right;\">\n",
       "      <th></th>\n",
       "      <th>Feature1</th>\n",
       "      <th>Feature2</th>\n",
       "      <th>DecisionF1F2</th>\n",
       "      <th>TVShow</th>\n",
       "      <th>Decision2</th>\n",
       "      <th>Decision3</th>\n",
       "      <th>Comment</th>\n",
       "    </tr>\n",
       "  </thead>\n",
       "  <tbody>\n",
       "    <tr>\n",
       "      <th>0</th>\n",
       "      <td>0.6</td>\n",
       "      <td>0.6</td>\n",
       "      <td>NaN</td>\n",
       "      <td>Hollyoaks</td>\n",
       "      <td>NaN</td>\n",
       "      <td>NaN</td>\n",
       "      <td>NaN</td>\n",
       "    </tr>\n",
       "    <tr>\n",
       "      <th>1</th>\n",
       "      <td>0.4</td>\n",
       "      <td>0.6</td>\n",
       "      <td>NaN</td>\n",
       "      <td>hollyoaks</td>\n",
       "      <td>NaN</td>\n",
       "      <td>NaN</td>\n",
       "      <td>NaN</td>\n",
       "    </tr>\n",
       "    <tr>\n",
       "      <th>2</th>\n",
       "      <td>0.3</td>\n",
       "      <td>0.4</td>\n",
       "      <td>NaN</td>\n",
       "      <td>Hollyoaks</td>\n",
       "      <td>NaN</td>\n",
       "      <td>NaN</td>\n",
       "      <td>trailing-space on TVShow</td>\n",
       "    </tr>\n",
       "    <tr>\n",
       "      <th>3</th>\n",
       "      <td>0.9</td>\n",
       "      <td>0.8</td>\n",
       "      <td>NaN</td>\n",
       "      <td>hollyoaks</td>\n",
       "      <td>NaN</td>\n",
       "      <td>NaN</td>\n",
       "      <td>NaN</td>\n",
       "    </tr>\n",
       "    <tr>\n",
       "      <th>4</th>\n",
       "      <td>0.9</td>\n",
       "      <td>0.8</td>\n",
       "      <td>NaN</td>\n",
       "      <td>holly-oaks</td>\n",
       "      <td>NaN</td>\n",
       "      <td>NaN</td>\n",
       "      <td>badly-spelt TVShow</td>\n",
       "    </tr>\n",
       "    <tr>\n",
       "      <th>5</th>\n",
       "      <td>0.9</td>\n",
       "      <td>0.8</td>\n",
       "      <td>NaN</td>\n",
       "      <td>best TV shows</td>\n",
       "      <td>NaN</td>\n",
       "      <td>NaN</td>\n",
       "      <td>NaN</td>\n",
       "    </tr>\n",
       "  </tbody>\n",
       "</table>\n",
       "</div>"
      ],
      "text/plain": [
       "   Feature1  Feature2  DecisionF1F2         TVShow  Decision2  Decision3  \\\n",
       "0       0.6       0.6           NaN      Hollyoaks        NaN        NaN   \n",
       "1       0.4       0.6           NaN      hollyoaks        NaN        NaN   \n",
       "2       0.3       0.4           NaN     Hollyoaks         NaN        NaN   \n",
       "3       0.9       0.8           NaN      hollyoaks        NaN        NaN   \n",
       "4       0.9       0.8           NaN     holly-oaks        NaN        NaN   \n",
       "5       0.9       0.8           NaN  best TV shows        NaN        NaN   \n",
       "\n",
       "                    Comment  \n",
       "0                       NaN  \n",
       "1                       NaN  \n",
       "2  trailing-space on TVShow  \n",
       "3                       NaN  \n",
       "4        badly-spelt TVShow  \n",
       "5                       NaN  "
      ]
     },
     "execution_count": 19,
     "metadata": {},
     "output_type": "execute_result"
    }
   ],
   "source": [
    "df.head(10) # this creates a Table view (non-interactive but prettier)"
   ]
  },
  {
   "cell_type": "code",
   "execution_count": 20,
   "metadata": {
    "collapsed": false
   },
   "outputs": [
    {
     "name": "stdout",
     "output_type": "stream",
     "text": [
      "Column names: Index(['Feature1', 'Feature2', 'DecisionF1F2', 'TVShow', 'Decision2',\n",
      "       'Decision3', 'Comment'],\n",
      "      dtype='object')\n"
     ]
    }
   ],
   "source": [
    "print(\"Column names:\", df.columns)"
   ]
  },
  {
   "cell_type": "code",
   "execution_count": 21,
   "metadata": {
    "collapsed": false
   },
   "outputs": [
    {
     "name": "stdout",
     "output_type": "stream",
     "text": [
      "Information about each row including data types:\n",
      "(note - type 'object' is catch-all that includes strings)\n",
      "<class 'pandas.core.frame.DataFrame'>\n",
      "Int64Index: 6 entries, 0 to 5\n",
      "Data columns (total 7 columns):\n",
      "Feature1        6 non-null float64\n",
      "Feature2        6 non-null float64\n",
      "DecisionF1F2    0 non-null float64\n",
      "TVShow          6 non-null object\n",
      "Decision2       0 non-null float64\n",
      "Decision3       0 non-null float64\n",
      "Comment         2 non-null object\n",
      "dtypes: float64(5), object(2)\n",
      "memory usage: 384.0+ bytes\n"
     ]
    }
   ],
   "source": [
    "print(\"Information about each row including data types:\")\n",
    "print(\"(note - type 'object' is catch-all that includes strings)\")\n",
    "df.info()"
   ]
  },
  {
   "cell_type": "code",
   "execution_count": 22,
   "metadata": {
    "collapsed": false
   },
   "outputs": [
    {
     "name": "stdout",
     "output_type": "stream",
     "text": [
      "\n",
      "We can extract a column of data as a Series object:\n",
      "0    0.6\n",
      "1    0.4\n",
      "2    0.3\n",
      "3    0.9\n",
      "4    0.9\n",
      "5    0.9\n",
      "Name: Feature1, dtype: float64\n"
     ]
    }
   ],
   "source": [
    "print(\"\\nWe can extract a column of data as a Series object:\")\n",
    "print(df['Feature1'])"
   ]
  },
  {
   "cell_type": "code",
   "execution_count": 23,
   "metadata": {
    "collapsed": false
   },
   "outputs": [
    {
     "name": "stdout",
     "output_type": "stream",
     "text": [
      "\n",
      "We can extract a row as a Python dictionary:\n",
      "Feature1              0.6\n",
      "Feature2              0.6\n",
      "DecisionF1F2          NaN\n",
      "TVShow          Hollyoaks\n",
      "Decision2             NaN\n",
      "Decision3             NaN\n",
      "Comment               NaN\n",
      "Name: 0, dtype: object\n"
     ]
    }
   ],
   "source": [
    "row = df.ix[0]\n",
    "print(\"\\nWe can extract a row as a Python dictionary:\")\n",
    "print(row)"
   ]
  },
  {
   "cell_type": "code",
   "execution_count": 24,
   "metadata": {
    "collapsed": false
   },
   "outputs": [
    {
     "name": "stdout",
     "output_type": "stream",
     "text": [
      "\n",
      "Row items, e.g. Feature1=0.6000000000000001\n"
     ]
    }
   ],
   "source": [
    "print(\"\\nRow items, e.g. Feature1={feature1}\".format(feature1=row['Feature1']))"
   ]
  },
  {
   "cell_type": "code",
   "execution_count": 25,
   "metadata": {
    "collapsed": false
   },
   "outputs": [
    {
     "data": {
      "text/plain": [
       "0     True\n",
       "1    False\n",
       "2    False\n",
       "3     True\n",
       "4     True\n",
       "5     True\n",
       "dtype: bool"
      ]
     },
     "execution_count": 25,
     "metadata": {},
     "output_type": "execute_result"
    }
   ],
   "source": [
    "def decision_f1_f2(row):\n",
    "    feature_1 = row['Feature1']\n",
    "    feature_2 = row['Feature2']\n",
    "    if feature_1 > 0.5:\n",
    "        if feature_2 > 0.5:\n",
    "            return True\n",
    "    return False\n",
    "\n",
    "# we'll use apply on the entire DataFrame, axis=1 means row-wise (not column-wise)\n",
    "# http://pandas.pydata.org/pandas-docs/stable/generated/pandas.DataFrame.apply.html\n",
    "df.apply(decision_f1_f2, axis=1)\n",
    "# note this doesn't change the DataFrame, it generates a new separate Series\n",
    "# and here we just print it and then discard it"
   ]
  },
  {
   "cell_type": "code",
   "execution_count": 27,
   "metadata": {
    "collapsed": false
   },
   "outputs": [
    {
     "data": {
      "text/html": [
       "<div>\n",
       "<table border=\"1\" class=\"dataframe\">\n",
       "  <thead>\n",
       "    <tr style=\"text-align: right;\">\n",
       "      <th></th>\n",
       "      <th>Feature1</th>\n",
       "      <th>Feature2</th>\n",
       "      <th>DecisionF1F2</th>\n",
       "      <th>TVShow</th>\n",
       "      <th>Decision2</th>\n",
       "      <th>Decision3</th>\n",
       "      <th>Comment</th>\n",
       "    </tr>\n",
       "  </thead>\n",
       "  <tbody>\n",
       "    <tr>\n",
       "      <th>0</th>\n",
       "      <td>0.6</td>\n",
       "      <td>0.6</td>\n",
       "      <td>NaN</td>\n",
       "      <td>Hollyoaks</td>\n",
       "      <td>NaN</td>\n",
       "      <td>NaN</td>\n",
       "      <td>NaN</td>\n",
       "    </tr>\n",
       "    <tr>\n",
       "      <th>1</th>\n",
       "      <td>0.4</td>\n",
       "      <td>0.6</td>\n",
       "      <td>NaN</td>\n",
       "      <td>hollyoaks</td>\n",
       "      <td>NaN</td>\n",
       "      <td>NaN</td>\n",
       "      <td>NaN</td>\n",
       "    </tr>\n",
       "    <tr>\n",
       "      <th>2</th>\n",
       "      <td>0.3</td>\n",
       "      <td>0.4</td>\n",
       "      <td>NaN</td>\n",
       "      <td>Hollyoaks</td>\n",
       "      <td>NaN</td>\n",
       "      <td>NaN</td>\n",
       "      <td>trailing-space on TVShow</td>\n",
       "    </tr>\n",
       "    <tr>\n",
       "      <th>3</th>\n",
       "      <td>0.9</td>\n",
       "      <td>0.8</td>\n",
       "      <td>NaN</td>\n",
       "      <td>hollyoaks</td>\n",
       "      <td>NaN</td>\n",
       "      <td>NaN</td>\n",
       "      <td>NaN</td>\n",
       "    </tr>\n",
       "    <tr>\n",
       "      <th>4</th>\n",
       "      <td>0.9</td>\n",
       "      <td>0.8</td>\n",
       "      <td>NaN</td>\n",
       "      <td>holly-oaks</td>\n",
       "      <td>NaN</td>\n",
       "      <td>NaN</td>\n",
       "      <td>badly-spelt TVShow</td>\n",
       "    </tr>\n",
       "    <tr>\n",
       "      <th>5</th>\n",
       "      <td>0.9</td>\n",
       "      <td>0.8</td>\n",
       "      <td>NaN</td>\n",
       "      <td>best TV shows</td>\n",
       "      <td>NaN</td>\n",
       "      <td>NaN</td>\n",
       "      <td>NaN</td>\n",
       "    </tr>\n",
       "  </tbody>\n",
       "</table>\n",
       "</div>"
      ],
      "text/plain": [
       "   Feature1  Feature2  DecisionF1F2         TVShow  Decision2  Decision3  \\\n",
       "0       0.6       0.6           NaN      Hollyoaks        NaN        NaN   \n",
       "1       0.4       0.6           NaN      hollyoaks        NaN        NaN   \n",
       "2       0.3       0.4           NaN     Hollyoaks         NaN        NaN   \n",
       "3       0.9       0.8           NaN      hollyoaks        NaN        NaN   \n",
       "4       0.9       0.8           NaN     holly-oaks        NaN        NaN   \n",
       "5       0.9       0.8           NaN  best TV shows        NaN        NaN   \n",
       "\n",
       "                    Comment  \n",
       "0                       NaN  \n",
       "1                       NaN  \n",
       "2  trailing-space on TVShow  \n",
       "3                       NaN  \n",
       "4        badly-spelt TVShow  \n",
       "5                       NaN  "
      ]
     },
     "execution_count": 27,
     "metadata": {},
     "output_type": "execute_result"
    }
   ],
   "source": [
    "df.head(10) # confirm we haven't modified the DataFrame"
   ]
  },
  {
   "cell_type": "code",
   "execution_count": 29,
   "metadata": {
    "collapsed": false
   },
   "outputs": [
    {
     "data": {
      "text/html": [
       "<div>\n",
       "<table border=\"1\" class=\"dataframe\">\n",
       "  <thead>\n",
       "    <tr style=\"text-align: right;\">\n",
       "      <th></th>\n",
       "      <th>Feature1</th>\n",
       "      <th>Feature2</th>\n",
       "      <th>DecisionF1F2</th>\n",
       "      <th>TVShow</th>\n",
       "      <th>Decision2</th>\n",
       "      <th>Decision3</th>\n",
       "      <th>Comment</th>\n",
       "    </tr>\n",
       "  </thead>\n",
       "  <tbody>\n",
       "    <tr>\n",
       "      <th>0</th>\n",
       "      <td>0.6</td>\n",
       "      <td>0.6</td>\n",
       "      <td>True</td>\n",
       "      <td>Hollyoaks</td>\n",
       "      <td>NaN</td>\n",
       "      <td>NaN</td>\n",
       "      <td>NaN</td>\n",
       "    </tr>\n",
       "    <tr>\n",
       "      <th>1</th>\n",
       "      <td>0.4</td>\n",
       "      <td>0.6</td>\n",
       "      <td>False</td>\n",
       "      <td>hollyoaks</td>\n",
       "      <td>NaN</td>\n",
       "      <td>NaN</td>\n",
       "      <td>NaN</td>\n",
       "    </tr>\n",
       "    <tr>\n",
       "      <th>2</th>\n",
       "      <td>0.3</td>\n",
       "      <td>0.4</td>\n",
       "      <td>False</td>\n",
       "      <td>Hollyoaks</td>\n",
       "      <td>NaN</td>\n",
       "      <td>NaN</td>\n",
       "      <td>trailing-space on TVShow</td>\n",
       "    </tr>\n",
       "    <tr>\n",
       "      <th>3</th>\n",
       "      <td>0.9</td>\n",
       "      <td>0.8</td>\n",
       "      <td>True</td>\n",
       "      <td>hollyoaks</td>\n",
       "      <td>NaN</td>\n",
       "      <td>NaN</td>\n",
       "      <td>NaN</td>\n",
       "    </tr>\n",
       "    <tr>\n",
       "      <th>4</th>\n",
       "      <td>0.9</td>\n",
       "      <td>0.8</td>\n",
       "      <td>True</td>\n",
       "      <td>holly-oaks</td>\n",
       "      <td>NaN</td>\n",
       "      <td>NaN</td>\n",
       "      <td>badly-spelt TVShow</td>\n",
       "    </tr>\n",
       "    <tr>\n",
       "      <th>5</th>\n",
       "      <td>0.9</td>\n",
       "      <td>0.8</td>\n",
       "      <td>True</td>\n",
       "      <td>best TV shows</td>\n",
       "      <td>NaN</td>\n",
       "      <td>NaN</td>\n",
       "      <td>NaN</td>\n",
       "    </tr>\n",
       "  </tbody>\n",
       "</table>\n",
       "</div>"
      ],
      "text/plain": [
       "   Feature1  Feature2 DecisionF1F2         TVShow  Decision2  Decision3  \\\n",
       "0       0.6       0.6         True      Hollyoaks        NaN        NaN   \n",
       "1       0.4       0.6        False      hollyoaks        NaN        NaN   \n",
       "2       0.3       0.4        False     Hollyoaks         NaN        NaN   \n",
       "3       0.9       0.8         True      hollyoaks        NaN        NaN   \n",
       "4       0.9       0.8         True     holly-oaks        NaN        NaN   \n",
       "5       0.9       0.8         True  best TV shows        NaN        NaN   \n",
       "\n",
       "                    Comment  \n",
       "0                       NaN  \n",
       "1                       NaN  \n",
       "2  trailing-space on TVShow  \n",
       "3                       NaN  \n",
       "4        badly-spelt TVShow  \n",
       "5                       NaN  "
      ]
     },
     "execution_count": 29,
     "metadata": {},
     "output_type": "execute_result"
    }
   ],
   "source": [
    "# we can assign the result back to the DataFrame as a new column\n",
    "new_result = df.apply(decision_f1_f2, axis=1)\n",
    "df['DecisionF1F2'] = new_result\n",
    "df.head(10)"
   ]
  },
  {
   "cell_type": "code",
   "execution_count": 31,
   "metadata": {
    "collapsed": false
   },
   "outputs": [
    {
     "data": {
      "text/html": [
       "<div>\n",
       "<table border=\"1\" class=\"dataframe\">\n",
       "  <thead>\n",
       "    <tr style=\"text-align: right;\">\n",
       "      <th></th>\n",
       "      <th>Feature1</th>\n",
       "      <th>Feature2</th>\n",
       "      <th>DecisionF1F2</th>\n",
       "      <th>TVShow</th>\n",
       "      <th>Decision2</th>\n",
       "      <th>Decision3</th>\n",
       "      <th>Comment</th>\n",
       "    </tr>\n",
       "  </thead>\n",
       "  <tbody>\n",
       "    <tr>\n",
       "      <th>0</th>\n",
       "      <td>0.6</td>\n",
       "      <td>0.6</td>\n",
       "      <td>True</td>\n",
       "      <td>Hollyoaks</td>\n",
       "      <td>True</td>\n",
       "      <td>NaN</td>\n",
       "      <td>NaN</td>\n",
       "    </tr>\n",
       "    <tr>\n",
       "      <th>1</th>\n",
       "      <td>0.4</td>\n",
       "      <td>0.6</td>\n",
       "      <td>False</td>\n",
       "      <td>hollyoaks</td>\n",
       "      <td>True</td>\n",
       "      <td>NaN</td>\n",
       "      <td>NaN</td>\n",
       "    </tr>\n",
       "    <tr>\n",
       "      <th>2</th>\n",
       "      <td>0.3</td>\n",
       "      <td>0.4</td>\n",
       "      <td>False</td>\n",
       "      <td>Hollyoaks</td>\n",
       "      <td>False</td>\n",
       "      <td>NaN</td>\n",
       "      <td>trailing-space on TVShow</td>\n",
       "    </tr>\n",
       "    <tr>\n",
       "      <th>3</th>\n",
       "      <td>0.9</td>\n",
       "      <td>0.8</td>\n",
       "      <td>True</td>\n",
       "      <td>hollyoaks</td>\n",
       "      <td>True</td>\n",
       "      <td>NaN</td>\n",
       "      <td>NaN</td>\n",
       "    </tr>\n",
       "    <tr>\n",
       "      <th>4</th>\n",
       "      <td>0.9</td>\n",
       "      <td>0.8</td>\n",
       "      <td>True</td>\n",
       "      <td>holly-oaks</td>\n",
       "      <td>False</td>\n",
       "      <td>NaN</td>\n",
       "      <td>badly-spelt TVShow</td>\n",
       "    </tr>\n",
       "    <tr>\n",
       "      <th>5</th>\n",
       "      <td>0.9</td>\n",
       "      <td>0.8</td>\n",
       "      <td>True</td>\n",
       "      <td>best TV shows</td>\n",
       "      <td>False</td>\n",
       "      <td>NaN</td>\n",
       "      <td>NaN</td>\n",
       "    </tr>\n",
       "  </tbody>\n",
       "</table>\n",
       "</div>"
      ],
      "text/plain": [
       "   Feature1  Feature2 DecisionF1F2         TVShow Decision2  Decision3  \\\n",
       "0       0.6       0.6         True      Hollyoaks      True        NaN   \n",
       "1       0.4       0.6        False      hollyoaks      True        NaN   \n",
       "2       0.3       0.4        False     Hollyoaks      False        NaN   \n",
       "3       0.9       0.8         True      hollyoaks      True        NaN   \n",
       "4       0.9       0.8         True     holly-oaks     False        NaN   \n",
       "5       0.9       0.8         True  best TV shows     False        NaN   \n",
       "\n",
       "                    Comment  \n",
       "0                       NaN  \n",
       "1                       NaN  \n",
       "2  trailing-space on TVShow  \n",
       "3                       NaN  \n",
       "4        badly-spelt TVShow  \n",
       "5                       NaN  "
      ]
     },
     "execution_count": 31,
     "metadata": {},
     "output_type": "execute_result"
    }
   ],
   "source": [
    "def decision_tvshow(cell):\n",
    "    cleaned_cell = cell\n",
    "    cleaned_cell = cleaned_cell.lower() # lowercase\n",
    "    is_hollyoaks = cleaned_cell == \"hollyoaks\"\n",
    "    return is_hollyoaks\n",
    "\n",
    "# we can assign the result back to the DataFrame as a new column\n",
    "df['Decision2'] = df['TVShow'].apply(decision_tvshow)\n",
    "df.head(10)"
   ]
  },
  {
   "cell_type": "markdown",
   "metadata": {},
   "source": [
    "## Add a strip to remove whitespace from the \"Hollyoaks \" example"
   ]
  },
  {
   "cell_type": "code",
   "execution_count": 32,
   "metadata": {
    "collapsed": false
   },
   "outputs": [
    {
     "data": {
      "text/html": [
       "<div>\n",
       "<table border=\"1\" class=\"dataframe\">\n",
       "  <thead>\n",
       "    <tr style=\"text-align: right;\">\n",
       "      <th></th>\n",
       "      <th>Feature1</th>\n",
       "      <th>Feature2</th>\n",
       "      <th>DecisionF1F2</th>\n",
       "      <th>TVShow</th>\n",
       "      <th>Decision2</th>\n",
       "      <th>Decision3</th>\n",
       "      <th>Comment</th>\n",
       "    </tr>\n",
       "  </thead>\n",
       "  <tbody>\n",
       "    <tr>\n",
       "      <th>0</th>\n",
       "      <td>0.6</td>\n",
       "      <td>0.6</td>\n",
       "      <td>True</td>\n",
       "      <td>Hollyoaks</td>\n",
       "      <td>True</td>\n",
       "      <td>NaN</td>\n",
       "      <td>NaN</td>\n",
       "    </tr>\n",
       "    <tr>\n",
       "      <th>1</th>\n",
       "      <td>0.4</td>\n",
       "      <td>0.6</td>\n",
       "      <td>False</td>\n",
       "      <td>hollyoaks</td>\n",
       "      <td>True</td>\n",
       "      <td>NaN</td>\n",
       "      <td>NaN</td>\n",
       "    </tr>\n",
       "    <tr>\n",
       "      <th>2</th>\n",
       "      <td>0.3</td>\n",
       "      <td>0.4</td>\n",
       "      <td>False</td>\n",
       "      <td>Hollyoaks</td>\n",
       "      <td>True</td>\n",
       "      <td>NaN</td>\n",
       "      <td>trailing-space on TVShow</td>\n",
       "    </tr>\n",
       "    <tr>\n",
       "      <th>3</th>\n",
       "      <td>0.9</td>\n",
       "      <td>0.8</td>\n",
       "      <td>True</td>\n",
       "      <td>hollyoaks</td>\n",
       "      <td>True</td>\n",
       "      <td>NaN</td>\n",
       "      <td>NaN</td>\n",
       "    </tr>\n",
       "    <tr>\n",
       "      <th>4</th>\n",
       "      <td>0.9</td>\n",
       "      <td>0.8</td>\n",
       "      <td>True</td>\n",
       "      <td>holly-oaks</td>\n",
       "      <td>False</td>\n",
       "      <td>NaN</td>\n",
       "      <td>badly-spelt TVShow</td>\n",
       "    </tr>\n",
       "    <tr>\n",
       "      <th>5</th>\n",
       "      <td>0.9</td>\n",
       "      <td>0.8</td>\n",
       "      <td>True</td>\n",
       "      <td>best TV shows</td>\n",
       "      <td>False</td>\n",
       "      <td>NaN</td>\n",
       "      <td>NaN</td>\n",
       "    </tr>\n",
       "  </tbody>\n",
       "</table>\n",
       "</div>"
      ],
      "text/plain": [
       "   Feature1  Feature2 DecisionF1F2         TVShow Decision2  Decision3  \\\n",
       "0       0.6       0.6         True      Hollyoaks      True        NaN   \n",
       "1       0.4       0.6        False      hollyoaks      True        NaN   \n",
       "2       0.3       0.4        False     Hollyoaks       True        NaN   \n",
       "3       0.9       0.8         True      hollyoaks      True        NaN   \n",
       "4       0.9       0.8         True     holly-oaks     False        NaN   \n",
       "5       0.9       0.8         True  best TV shows     False        NaN   \n",
       "\n",
       "                    Comment  \n",
       "0                       NaN  \n",
       "1                       NaN  \n",
       "2  trailing-space on TVShow  \n",
       "3                       NaN  \n",
       "4        badly-spelt TVShow  \n",
       "5                       NaN  "
      ]
     },
     "execution_count": 32,
     "metadata": {},
     "output_type": "execute_result"
    }
   ],
   "source": [
    "def decision_tvshow_is_hollyoaks(cell):\n",
    "    cleaned_cell = cell\n",
    "    cleaned_cell = cleaned_cell.lower() # lowercase\n",
    "    cleaned_cell = cleaned_cell.strip() # remove superflous whitespace\n",
    "    is_hollyoaks = cleaned_cell == \"hollyoaks\"\n",
    "    return is_hollyoaks\n",
    "\n",
    "# we can assign the result back to the DataFrame as a new column\n",
    "df['Decision2'] = df['TVShow'].apply(decision_tvshow_is_hollyoaks)\n",
    "df.head(10)"
   ]
  },
  {
   "cell_type": "markdown",
   "metadata": {},
   "source": [
    "# Combine DecisionF1F2 and Decision2"
   ]
  },
  {
   "cell_type": "code",
   "execution_count": 34,
   "metadata": {
    "collapsed": false
   },
   "outputs": [
    {
     "data": {
      "text/html": [
       "<div>\n",
       "<table border=\"1\" class=\"dataframe\">\n",
       "  <thead>\n",
       "    <tr style=\"text-align: right;\">\n",
       "      <th></th>\n",
       "      <th>Feature1</th>\n",
       "      <th>Feature2</th>\n",
       "      <th>DecisionF1F2</th>\n",
       "      <th>TVShow</th>\n",
       "      <th>Decision2</th>\n",
       "      <th>Decision3</th>\n",
       "      <th>Comment</th>\n",
       "    </tr>\n",
       "  </thead>\n",
       "  <tbody>\n",
       "    <tr>\n",
       "      <th>0</th>\n",
       "      <td>0.6</td>\n",
       "      <td>0.6</td>\n",
       "      <td>True</td>\n",
       "      <td>Hollyoaks</td>\n",
       "      <td>True</td>\n",
       "      <td>True</td>\n",
       "      <td>NaN</td>\n",
       "    </tr>\n",
       "    <tr>\n",
       "      <th>1</th>\n",
       "      <td>0.4</td>\n",
       "      <td>0.6</td>\n",
       "      <td>False</td>\n",
       "      <td>hollyoaks</td>\n",
       "      <td>True</td>\n",
       "      <td>False</td>\n",
       "      <td>NaN</td>\n",
       "    </tr>\n",
       "    <tr>\n",
       "      <th>2</th>\n",
       "      <td>0.3</td>\n",
       "      <td>0.4</td>\n",
       "      <td>False</td>\n",
       "      <td>Hollyoaks</td>\n",
       "      <td>True</td>\n",
       "      <td>False</td>\n",
       "      <td>trailing-space on TVShow</td>\n",
       "    </tr>\n",
       "    <tr>\n",
       "      <th>3</th>\n",
       "      <td>0.9</td>\n",
       "      <td>0.8</td>\n",
       "      <td>True</td>\n",
       "      <td>hollyoaks</td>\n",
       "      <td>True</td>\n",
       "      <td>True</td>\n",
       "      <td>NaN</td>\n",
       "    </tr>\n",
       "    <tr>\n",
       "      <th>4</th>\n",
       "      <td>0.9</td>\n",
       "      <td>0.8</td>\n",
       "      <td>True</td>\n",
       "      <td>holly-oaks</td>\n",
       "      <td>False</td>\n",
       "      <td>False</td>\n",
       "      <td>badly-spelt TVShow</td>\n",
       "    </tr>\n",
       "    <tr>\n",
       "      <th>5</th>\n",
       "      <td>0.9</td>\n",
       "      <td>0.8</td>\n",
       "      <td>True</td>\n",
       "      <td>best TV shows</td>\n",
       "      <td>False</td>\n",
       "      <td>False</td>\n",
       "      <td>NaN</td>\n",
       "    </tr>\n",
       "  </tbody>\n",
       "</table>\n",
       "</div>"
      ],
      "text/plain": [
       "   Feature1  Feature2 DecisionF1F2         TVShow Decision2 Decision3  \\\n",
       "0       0.6       0.6         True      Hollyoaks      True      True   \n",
       "1       0.4       0.6        False      hollyoaks      True     False   \n",
       "2       0.3       0.4        False     Hollyoaks       True     False   \n",
       "3       0.9       0.8         True      hollyoaks      True      True   \n",
       "4       0.9       0.8         True     holly-oaks     False     False   \n",
       "5       0.9       0.8         True  best TV shows     False     False   \n",
       "\n",
       "                    Comment  \n",
       "0                       NaN  \n",
       "1                       NaN  \n",
       "2  trailing-space on TVShow  \n",
       "3                       NaN  \n",
       "4        badly-spelt TVShow  \n",
       "5                       NaN  "
      ]
     },
     "execution_count": 34,
     "metadata": {},
     "output_type": "execute_result"
    }
   ],
   "source": [
    "# use a different way to access the columns (using .colname - this only works for\n",
    "# easy-to-read ASCII names, it won't work with funny characters)\n",
    "# and use the logical and (&) to do pairwise logic, assigning the result to our new column\n",
    "df['Decision3'] = df.DecisionF1F2 & df.Decision2\n",
    "df.head(10)"
   ]
  },
  {
   "cell_type": "markdown",
   "metadata": {},
   "source": [
    "# Output a new XLS"
   ]
  },
  {
   "cell_type": "code",
   "execution_count": 35,
   "metadata": {
    "collapsed": true
   },
   "outputs": [],
   "source": [
    "writer = pd.ExcelWriter('sheet_1_with_added_logic_generated_via_pandas.xlsx', engine='xlsxwriter')\n",
    "df.to_excel(writer, index=False, sheet_name='Our New Sheet')\n",
    "workbook = writer.book\n",
    "worksheet = writer.sheets['Our New Sheet']\n",
    "writer.save()\n",
    "# note we could add lots of conditional formatting for Excel via:\n",
    "# http://pbpython.com/improve-pandas-excel-output.html"
   ]
  },
  {
   "cell_type": "markdown",
   "metadata": {},
   "source": [
    "# Let's be clever - we'll do some text processing\n",
    "\n",
    "We'll try the external `fuzzywuzzy` library to do some very simple text processing.\n",
    "\n",
    "If needed install using `conda install -c wpb fuzzywuzzy`."
   ]
  },
  {
   "cell_type": "code",
   "execution_count": 36,
   "metadata": {
    "collapsed": false
   },
   "outputs": [],
   "source": [
    "from fuzzywuzzy import fuzz\n",
    "# http://pbpython.com/excel-pandas-comp.html side reading on fuzzywuzzy"
   ]
  },
  {
   "cell_type": "code",
   "execution_count": 37,
   "metadata": {
    "collapsed": false
   },
   "outputs": [
    {
     "name": "stdout",
     "output_type": "stream",
     "text": [
      "hollyoaks 100\n",
      "holly-oaks 95\n",
      "holly oak 89\n",
      "tv's best moments 15\n"
     ]
    }
   ],
   "source": [
    "# quick demo:\n",
    "item1 = \"hollyoaks\"\n",
    "target = \"hollyoaks\"\n",
    "print(target, fuzz.ratio(item1, target))\n",
    "target = 'holly-oaks'\n",
    "print(target, fuzz.ratio(item1, target))\n",
    "target = 'holly oak'\n",
    "print(target, fuzz.ratio(item1, target))\n",
    "target = \"tv's best moments\"\n",
    "print(target, fuzz.ratio(item1, target))"
   ]
  },
  {
   "cell_type": "code",
   "execution_count": 41,
   "metadata": {
    "collapsed": false
   },
   "outputs": [
    {
     "data": {
      "text/plain": [
       "0     True\n",
       "1     True\n",
       "2     True\n",
       "3     True\n",
       "4     True\n",
       "5    False\n",
       "Name: TVShow, dtype: bool"
      ]
     },
     "execution_count": 41,
     "metadata": {},
     "output_type": "execute_result"
    }
   ],
   "source": [
    "def decision_tvshow_is_hollyoaks_with_smarts(cell):\n",
    "    cleaned_cell = cell\n",
    "    cleaned_cell = cleaned_cell.lower() # lowercase\n",
    "    cleaned_cell = cleaned_cell.strip() # remove superflous whitespace\n",
    "    is_hollyoaks =  fuzz.ratio(\"hollyoaks\", cleaned_cell) > 85\n",
    "    return is_hollyoaks\n",
    "\n",
    "# we can assign the result back to the DataFrame as a new column\n",
    "df['TVShow'].apply(decision_tvshow_is_hollyoaks_with_smarts)\n"
   ]
  },
  {
   "cell_type": "code",
   "execution_count": 42,
   "metadata": {
    "collapsed": false
   },
   "outputs": [
    {
     "data": {
      "text/html": [
       "<div>\n",
       "<table border=\"1\" class=\"dataframe\">\n",
       "  <thead>\n",
       "    <tr style=\"text-align: right;\">\n",
       "      <th></th>\n",
       "      <th>Feature1</th>\n",
       "      <th>Feature2</th>\n",
       "      <th>DecisionF1F2</th>\n",
       "      <th>TVShow</th>\n",
       "      <th>Decision2</th>\n",
       "      <th>Decision3</th>\n",
       "      <th>Comment</th>\n",
       "    </tr>\n",
       "  </thead>\n",
       "  <tbody>\n",
       "    <tr>\n",
       "      <th>0</th>\n",
       "      <td>0.6</td>\n",
       "      <td>0.6</td>\n",
       "      <td>True</td>\n",
       "      <td>Hollyoaks</td>\n",
       "      <td>True</td>\n",
       "      <td>True</td>\n",
       "      <td>NaN</td>\n",
       "    </tr>\n",
       "    <tr>\n",
       "      <th>1</th>\n",
       "      <td>0.4</td>\n",
       "      <td>0.6</td>\n",
       "      <td>False</td>\n",
       "      <td>hollyoaks</td>\n",
       "      <td>True</td>\n",
       "      <td>False</td>\n",
       "      <td>NaN</td>\n",
       "    </tr>\n",
       "    <tr>\n",
       "      <th>2</th>\n",
       "      <td>0.3</td>\n",
       "      <td>0.4</td>\n",
       "      <td>False</td>\n",
       "      <td>Hollyoaks</td>\n",
       "      <td>True</td>\n",
       "      <td>False</td>\n",
       "      <td>trailing-space on TVShow</td>\n",
       "    </tr>\n",
       "    <tr>\n",
       "      <th>3</th>\n",
       "      <td>0.9</td>\n",
       "      <td>0.8</td>\n",
       "      <td>True</td>\n",
       "      <td>hollyoaks</td>\n",
       "      <td>True</td>\n",
       "      <td>True</td>\n",
       "      <td>NaN</td>\n",
       "    </tr>\n",
       "    <tr>\n",
       "      <th>4</th>\n",
       "      <td>0.9</td>\n",
       "      <td>0.8</td>\n",
       "      <td>True</td>\n",
       "      <td>holly-oaks</td>\n",
       "      <td>False</td>\n",
       "      <td>False</td>\n",
       "      <td>badly-spelt TVShow</td>\n",
       "    </tr>\n",
       "    <tr>\n",
       "      <th>5</th>\n",
       "      <td>0.9</td>\n",
       "      <td>0.8</td>\n",
       "      <td>True</td>\n",
       "      <td>best TV shows</td>\n",
       "      <td>False</td>\n",
       "      <td>False</td>\n",
       "      <td>NaN</td>\n",
       "    </tr>\n",
       "  </tbody>\n",
       "</table>\n",
       "</div>"
      ],
      "text/plain": [
       "   Feature1  Feature2 DecisionF1F2         TVShow Decision2 Decision3  \\\n",
       "0       0.6       0.6         True      Hollyoaks      True      True   \n",
       "1       0.4       0.6        False      hollyoaks      True     False   \n",
       "2       0.3       0.4        False     Hollyoaks       True     False   \n",
       "3       0.9       0.8         True      hollyoaks      True      True   \n",
       "4       0.9       0.8         True     holly-oaks     False     False   \n",
       "5       0.9       0.8         True  best TV shows     False     False   \n",
       "\n",
       "                    Comment  \n",
       "0                       NaN  \n",
       "1                       NaN  \n",
       "2  trailing-space on TVShow  \n",
       "3                       NaN  \n",
       "4        badly-spelt TVShow  \n",
       "5                       NaN  "
      ]
     },
     "execution_count": 42,
     "metadata": {},
     "output_type": "execute_result"
    }
   ],
   "source": [
    "df.head(10) # show that we *haven't* yet manipulated the DataFrame"
   ]
  },
  {
   "cell_type": "code",
   "execution_count": 45,
   "metadata": {
    "collapsed": false
   },
   "outputs": [
    {
     "data": {
      "text/html": [
       "<div>\n",
       "<table border=\"1\" class=\"dataframe\">\n",
       "  <thead>\n",
       "    <tr style=\"text-align: right;\">\n",
       "      <th></th>\n",
       "      <th>Feature1</th>\n",
       "      <th>Feature2</th>\n",
       "      <th>DecisionF1F2</th>\n",
       "      <th>TVShow</th>\n",
       "      <th>Decision2</th>\n",
       "      <th>Decision3</th>\n",
       "      <th>Comment</th>\n",
       "    </tr>\n",
       "  </thead>\n",
       "  <tbody>\n",
       "    <tr>\n",
       "      <th>0</th>\n",
       "      <td>0.6</td>\n",
       "      <td>0.6</td>\n",
       "      <td>True</td>\n",
       "      <td>Hollyoaks</td>\n",
       "      <td>True</td>\n",
       "      <td>True</td>\n",
       "      <td>NaN</td>\n",
       "    </tr>\n",
       "    <tr>\n",
       "      <th>1</th>\n",
       "      <td>0.4</td>\n",
       "      <td>0.6</td>\n",
       "      <td>False</td>\n",
       "      <td>hollyoaks</td>\n",
       "      <td>True</td>\n",
       "      <td>False</td>\n",
       "      <td>NaN</td>\n",
       "    </tr>\n",
       "    <tr>\n",
       "      <th>2</th>\n",
       "      <td>0.3</td>\n",
       "      <td>0.4</td>\n",
       "      <td>False</td>\n",
       "      <td>Hollyoaks</td>\n",
       "      <td>True</td>\n",
       "      <td>False</td>\n",
       "      <td>trailing-space on TVShow</td>\n",
       "    </tr>\n",
       "    <tr>\n",
       "      <th>3</th>\n",
       "      <td>0.9</td>\n",
       "      <td>0.8</td>\n",
       "      <td>True</td>\n",
       "      <td>hollyoaks</td>\n",
       "      <td>True</td>\n",
       "      <td>True</td>\n",
       "      <td>NaN</td>\n",
       "    </tr>\n",
       "    <tr>\n",
       "      <th>4</th>\n",
       "      <td>0.9</td>\n",
       "      <td>0.8</td>\n",
       "      <td>True</td>\n",
       "      <td>holly-oaks</td>\n",
       "      <td>True</td>\n",
       "      <td>False</td>\n",
       "      <td>badly-spelt TVShow</td>\n",
       "    </tr>\n",
       "    <tr>\n",
       "      <th>5</th>\n",
       "      <td>0.9</td>\n",
       "      <td>0.8</td>\n",
       "      <td>True</td>\n",
       "      <td>best TV shows</td>\n",
       "      <td>False</td>\n",
       "      <td>False</td>\n",
       "      <td>NaN</td>\n",
       "    </tr>\n",
       "  </tbody>\n",
       "</table>\n",
       "</div>"
      ],
      "text/plain": [
       "   Feature1  Feature2 DecisionF1F2         TVShow Decision2 Decision3  \\\n",
       "0       0.6       0.6         True      Hollyoaks      True      True   \n",
       "1       0.4       0.6        False      hollyoaks      True     False   \n",
       "2       0.3       0.4        False     Hollyoaks       True     False   \n",
       "3       0.9       0.8         True      hollyoaks      True      True   \n",
       "4       0.9       0.8         True     holly-oaks      True     False   \n",
       "5       0.9       0.8         True  best TV shows     False     False   \n",
       "\n",
       "                    Comment  \n",
       "0                       NaN  \n",
       "1                       NaN  \n",
       "2  trailing-space on TVShow  \n",
       "3                       NaN  \n",
       "4        badly-spelt TVShow  \n",
       "5                       NaN  "
      ]
     },
     "execution_count": 45,
     "metadata": {},
     "output_type": "execute_result"
    }
   ],
   "source": [
    "df['Decision2'] = df['TVShow'].apply(decision_tvshow_is_hollyoaks_with_smarts)\n",
    "df.head(10)\n",
    "# note that we *haven't re-run Decision3*!"
   ]
  },
  {
   "cell_type": "code",
   "execution_count": 46,
   "metadata": {
    "collapsed": false
   },
   "outputs": [
    {
     "data": {
      "text/html": [
       "<div>\n",
       "<table border=\"1\" class=\"dataframe\">\n",
       "  <thead>\n",
       "    <tr style=\"text-align: right;\">\n",
       "      <th></th>\n",
       "      <th>Feature1</th>\n",
       "      <th>Feature2</th>\n",
       "      <th>DecisionF1F2</th>\n",
       "      <th>TVShow</th>\n",
       "      <th>Decision2</th>\n",
       "      <th>Decision3</th>\n",
       "      <th>Comment</th>\n",
       "    </tr>\n",
       "  </thead>\n",
       "  <tbody>\n",
       "    <tr>\n",
       "      <th>0</th>\n",
       "      <td>0.6</td>\n",
       "      <td>0.6</td>\n",
       "      <td>True</td>\n",
       "      <td>Hollyoaks</td>\n",
       "      <td>True</td>\n",
       "      <td>True</td>\n",
       "      <td>NaN</td>\n",
       "    </tr>\n",
       "    <tr>\n",
       "      <th>1</th>\n",
       "      <td>0.4</td>\n",
       "      <td>0.6</td>\n",
       "      <td>False</td>\n",
       "      <td>hollyoaks</td>\n",
       "      <td>True</td>\n",
       "      <td>False</td>\n",
       "      <td>NaN</td>\n",
       "    </tr>\n",
       "    <tr>\n",
       "      <th>2</th>\n",
       "      <td>0.3</td>\n",
       "      <td>0.4</td>\n",
       "      <td>False</td>\n",
       "      <td>Hollyoaks</td>\n",
       "      <td>True</td>\n",
       "      <td>False</td>\n",
       "      <td>trailing-space on TVShow</td>\n",
       "    </tr>\n",
       "    <tr>\n",
       "      <th>3</th>\n",
       "      <td>0.9</td>\n",
       "      <td>0.8</td>\n",
       "      <td>True</td>\n",
       "      <td>hollyoaks</td>\n",
       "      <td>True</td>\n",
       "      <td>True</td>\n",
       "      <td>NaN</td>\n",
       "    </tr>\n",
       "    <tr>\n",
       "      <th>4</th>\n",
       "      <td>0.9</td>\n",
       "      <td>0.8</td>\n",
       "      <td>True</td>\n",
       "      <td>holly-oaks</td>\n",
       "      <td>True</td>\n",
       "      <td>True</td>\n",
       "      <td>badly-spelt TVShow</td>\n",
       "    </tr>\n",
       "    <tr>\n",
       "      <th>5</th>\n",
       "      <td>0.9</td>\n",
       "      <td>0.8</td>\n",
       "      <td>True</td>\n",
       "      <td>best TV shows</td>\n",
       "      <td>False</td>\n",
       "      <td>False</td>\n",
       "      <td>NaN</td>\n",
       "    </tr>\n",
       "  </tbody>\n",
       "</table>\n",
       "</div>"
      ],
      "text/plain": [
       "   Feature1  Feature2 DecisionF1F2         TVShow Decision2 Decision3  \\\n",
       "0       0.6       0.6         True      Hollyoaks      True      True   \n",
       "1       0.4       0.6        False      hollyoaks      True     False   \n",
       "2       0.3       0.4        False     Hollyoaks       True     False   \n",
       "3       0.9       0.8         True      hollyoaks      True      True   \n",
       "4       0.9       0.8         True     holly-oaks      True      True   \n",
       "5       0.9       0.8         True  best TV shows     False     False   \n",
       "\n",
       "                    Comment  \n",
       "0                       NaN  \n",
       "1                       NaN  \n",
       "2  trailing-space on TVShow  \n",
       "3                       NaN  \n",
       "4        badly-spelt TVShow  \n",
       "5                       NaN  "
      ]
     },
     "execution_count": 46,
     "metadata": {},
     "output_type": "execute_result"
    }
   ],
   "source": [
    "df['Decision3'] = df.DecisionF1F2 & df.Decision2\n",
    "df.head(10)"
   ]
  },
  {
   "cell_type": "code",
   "execution_count": 44,
   "metadata": {
    "collapsed": true
   },
   "outputs": [],
   "source": [
    "# We could copy the Excel code down here and write out a new spreadsheet to disk..."
   ]
  },
  {
   "cell_type": "code",
   "execution_count": null,
   "metadata": {
    "collapsed": true
   },
   "outputs": [],
   "source": []
  }
 ],
 "metadata": {
  "kernelspec": {
   "display_name": "Python 3",
   "language": "python",
   "name": "python3"
  },
  "language_info": {
   "codemirror_mode": {
    "name": "ipython",
    "version": 3
   },
   "file_extension": ".py",
   "mimetype": "text/x-python",
   "name": "python",
   "nbconvert_exporter": "python",
   "pygments_lexer": "ipython3",
   "version": "3.4.4"
  }
 },
 "nbformat": 4,
 "nbformat_minor": 0
}
