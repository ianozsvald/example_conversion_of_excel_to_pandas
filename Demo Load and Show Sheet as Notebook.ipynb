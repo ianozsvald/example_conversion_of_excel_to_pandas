{
 "cells": [
  {
   "cell_type": "markdown",
   "metadata": {},
   "source": [
    "# Notebook version of demo_load_show_sheet.py\n",
    "\n",
    "You'll have run `jupyter notebook` at the command line or via the Windows Anaconda tool."
   ]
  },
  {
   "cell_type": "code",
   "execution_count": 10,
   "metadata": {
    "collapsed": false
   },
   "outputs": [
    {
     "name": "stdout",
     "output_type": "stream",
     "text": [
      "   Feature1  Feature2 DecisionF1F2         TVShow  Decision2 Decision3  \\\n",
      "0       0.6       0.6         True      Hollyoaks          1      True   \n",
      "1       0.4       0.6        False      hollyoaks          1     False   \n",
      "2       0.3       0.4        False     Hollyoaks           0     False   \n",
      "3       0.9       0.8         True      hollyoaks          1      True   \n",
      "4       0.9       0.8         True     holly-oaks          0     False   \n",
      "5       0.9       0.8         True  best TV shows          0     False   \n",
      "\n",
      "                    Comment  \n",
      "0                       NaN  \n",
      "1                       NaN  \n",
      "2  trailing-space on TVShow  \n",
      "3                       NaN  \n",
      "4        badly-spelt TVShow  \n",
      "5                       NaN  \n"
     ]
    }
   ],
   "source": [
    "import pandas as pd\n",
    "\n",
    "df = pd.read_excel(\"sheet_1_with_simple_logic.xls\")\n",
    "print(df)"
   ]
  },
  {
   "cell_type": "code",
   "execution_count": 11,
   "metadata": {
    "collapsed": false
   },
   "outputs": [
    {
     "data": {
      "text/html": [
       "<div>\n",
       "<table border=\"1\" class=\"dataframe\">\n",
       "  <thead>\n",
       "    <tr style=\"text-align: right;\">\n",
       "      <th></th>\n",
       "      <th>Feature1</th>\n",
       "      <th>Feature2</th>\n",
       "      <th>DecisionF1F2</th>\n",
       "      <th>TVShow</th>\n",
       "      <th>Decision2</th>\n",
       "      <th>Decision3</th>\n",
       "      <th>Comment</th>\n",
       "    </tr>\n",
       "  </thead>\n",
       "  <tbody>\n",
       "    <tr>\n",
       "      <th>0</th>\n",
       "      <td>0.6</td>\n",
       "      <td>0.6</td>\n",
       "      <td>True</td>\n",
       "      <td>Hollyoaks</td>\n",
       "      <td>1</td>\n",
       "      <td>True</td>\n",
       "      <td>NaN</td>\n",
       "    </tr>\n",
       "    <tr>\n",
       "      <th>1</th>\n",
       "      <td>0.4</td>\n",
       "      <td>0.6</td>\n",
       "      <td>False</td>\n",
       "      <td>hollyoaks</td>\n",
       "      <td>1</td>\n",
       "      <td>False</td>\n",
       "      <td>NaN</td>\n",
       "    </tr>\n",
       "    <tr>\n",
       "      <th>2</th>\n",
       "      <td>0.3</td>\n",
       "      <td>0.4</td>\n",
       "      <td>False</td>\n",
       "      <td>Hollyoaks</td>\n",
       "      <td>0</td>\n",
       "      <td>False</td>\n",
       "      <td>trailing-space on TVShow</td>\n",
       "    </tr>\n",
       "    <tr>\n",
       "      <th>3</th>\n",
       "      <td>0.9</td>\n",
       "      <td>0.8</td>\n",
       "      <td>True</td>\n",
       "      <td>hollyoaks</td>\n",
       "      <td>1</td>\n",
       "      <td>True</td>\n",
       "      <td>NaN</td>\n",
       "    </tr>\n",
       "    <tr>\n",
       "      <th>4</th>\n",
       "      <td>0.9</td>\n",
       "      <td>0.8</td>\n",
       "      <td>True</td>\n",
       "      <td>holly-oaks</td>\n",
       "      <td>0</td>\n",
       "      <td>False</td>\n",
       "      <td>badly-spelt TVShow</td>\n",
       "    </tr>\n",
       "  </tbody>\n",
       "</table>\n",
       "</div>"
      ],
      "text/plain": [
       "   Feature1  Feature2 DecisionF1F2      TVShow  Decision2 Decision3  \\\n",
       "0       0.6       0.6         True   Hollyoaks          1      True   \n",
       "1       0.4       0.6        False   hollyoaks          1     False   \n",
       "2       0.3       0.4        False  Hollyoaks           0     False   \n",
       "3       0.9       0.8         True   hollyoaks          1      True   \n",
       "4       0.9       0.8         True  holly-oaks          0     False   \n",
       "\n",
       "                    Comment  \n",
       "0                       NaN  \n",
       "1                       NaN  \n",
       "2  trailing-space on TVShow  \n",
       "3                       NaN  \n",
       "4        badly-spelt TVShow  "
      ]
     },
     "execution_count": 11,
     "metadata": {},
     "output_type": "execute_result"
    }
   ],
   "source": [
    "df.head() # this creates a Table view (non-interactive but prettier)\n",
    "# NOTE! head shows 5 items by default and we have 6 items(!)"
   ]
  },
  {
   "cell_type": "code",
   "execution_count": 19,
   "metadata": {
    "collapsed": false
   },
   "outputs": [
    {
     "data": {
      "text/html": [
       "<div>\n",
       "<table border=\"1\" class=\"dataframe\">\n",
       "  <thead>\n",
       "    <tr style=\"text-align: right;\">\n",
       "      <th></th>\n",
       "      <th>Feature1</th>\n",
       "      <th>Feature2</th>\n",
       "      <th>DecisionF1F2</th>\n",
       "      <th>TVShow</th>\n",
       "      <th>Decision2</th>\n",
       "      <th>Decision3</th>\n",
       "      <th>Comment</th>\n",
       "      <th>Feature1_Times_2</th>\n",
       "    </tr>\n",
       "  </thead>\n",
       "  <tbody>\n",
       "    <tr>\n",
       "      <th>0</th>\n",
       "      <td>0.6</td>\n",
       "      <td>0.6</td>\n",
       "      <td>True</td>\n",
       "      <td>Hollyoaks</td>\n",
       "      <td>1</td>\n",
       "      <td>True</td>\n",
       "      <td>NaN</td>\n",
       "      <td>1.2</td>\n",
       "    </tr>\n",
       "    <tr>\n",
       "      <th>1</th>\n",
       "      <td>0.4</td>\n",
       "      <td>0.6</td>\n",
       "      <td>False</td>\n",
       "      <td>hollyoaks</td>\n",
       "      <td>1</td>\n",
       "      <td>False</td>\n",
       "      <td>NaN</td>\n",
       "      <td>0.8</td>\n",
       "    </tr>\n",
       "    <tr>\n",
       "      <th>2</th>\n",
       "      <td>0.3</td>\n",
       "      <td>0.4</td>\n",
       "      <td>False</td>\n",
       "      <td>Hollyoaks</td>\n",
       "      <td>0</td>\n",
       "      <td>False</td>\n",
       "      <td>trailing-space on TVShow</td>\n",
       "      <td>0.6</td>\n",
       "    </tr>\n",
       "    <tr>\n",
       "      <th>3</th>\n",
       "      <td>0.9</td>\n",
       "      <td>0.8</td>\n",
       "      <td>True</td>\n",
       "      <td>hollyoaks</td>\n",
       "      <td>1</td>\n",
       "      <td>True</td>\n",
       "      <td>NaN</td>\n",
       "      <td>1.8</td>\n",
       "    </tr>\n",
       "    <tr>\n",
       "      <th>4</th>\n",
       "      <td>0.9</td>\n",
       "      <td>0.8</td>\n",
       "      <td>True</td>\n",
       "      <td>holly-oaks</td>\n",
       "      <td>0</td>\n",
       "      <td>False</td>\n",
       "      <td>badly-spelt TVShow</td>\n",
       "      <td>1.8</td>\n",
       "    </tr>\n",
       "    <tr>\n",
       "      <th>5</th>\n",
       "      <td>0.9</td>\n",
       "      <td>0.8</td>\n",
       "      <td>True</td>\n",
       "      <td>best TV shows</td>\n",
       "      <td>0</td>\n",
       "      <td>False</td>\n",
       "      <td>NaN</td>\n",
       "      <td>1.8</td>\n",
       "    </tr>\n",
       "  </tbody>\n",
       "</table>\n",
       "</div>"
      ],
      "text/plain": [
       "   Feature1  Feature2 DecisionF1F2         TVShow  Decision2 Decision3  \\\n",
       "0       0.6       0.6         True      Hollyoaks          1      True   \n",
       "1       0.4       0.6        False      hollyoaks          1     False   \n",
       "2       0.3       0.4        False     Hollyoaks           0     False   \n",
       "3       0.9       0.8         True      hollyoaks          1      True   \n",
       "4       0.9       0.8         True     holly-oaks          0     False   \n",
       "5       0.9       0.8         True  best TV shows          0     False   \n",
       "\n",
       "                    Comment  Feature1_Times_2  \n",
       "0                       NaN               1.2  \n",
       "1                       NaN               0.8  \n",
       "2  trailing-space on TVShow               0.6  \n",
       "3                       NaN               1.8  \n",
       "4        badly-spelt TVShow               1.8  \n",
       "5                       NaN               1.8  "
      ]
     },
     "execution_count": 19,
     "metadata": {},
     "output_type": "execute_result"
    }
   ],
   "source": [
    "df.head(10)"
   ]
  },
  {
   "cell_type": "code",
   "execution_count": 12,
   "metadata": {
    "collapsed": false
   },
   "outputs": [
    {
     "name": "stdout",
     "output_type": "stream",
     "text": [
      "Column names: Index(['Feature1', 'Feature2', 'DecisionF1F2', 'TVShow', 'Decision2',\n",
      "       'Decision3', 'Comment'],\n",
      "      dtype='object')\n"
     ]
    }
   ],
   "source": [
    "print(\"Column names:\", df.columns)"
   ]
  },
  {
   "cell_type": "code",
   "execution_count": 13,
   "metadata": {
    "collapsed": false
   },
   "outputs": [
    {
     "name": "stdout",
     "output_type": "stream",
     "text": [
      "Information about each row including data types:\n",
      "(note - type 'object' is catch-all that includes strings)\n",
      "<class 'pandas.core.frame.DataFrame'>\n",
      "Int64Index: 6 entries, 0 to 5\n",
      "Data columns (total 7 columns):\n",
      "Feature1        6 non-null float64\n",
      "Feature2        6 non-null float64\n",
      "DecisionF1F2    6 non-null bool\n",
      "TVShow          6 non-null object\n",
      "Decision2       6 non-null int64\n",
      "Decision3       6 non-null bool\n",
      "Comment         2 non-null object\n",
      "dtypes: bool(2), float64(2), int64(1), object(2)\n",
      "memory usage: 300.0+ bytes\n"
     ]
    }
   ],
   "source": [
    "print(\"Information about each row including data types:\")\n",
    "print(\"(note - type 'object' is catch-all that includes strings)\")\n",
    "df.info()"
   ]
  },
  {
   "cell_type": "code",
   "execution_count": 14,
   "metadata": {
    "collapsed": false
   },
   "outputs": [
    {
     "name": "stdout",
     "output_type": "stream",
     "text": [
      "\n",
      "We can extract a column of data as a Series object:\n",
      "0    0.6\n",
      "1    0.4\n",
      "2    0.3\n",
      "3    0.9\n",
      "4    0.9\n",
      "5    0.9\n",
      "Name: Feature1, dtype: float64\n"
     ]
    }
   ],
   "source": [
    "print(\"\\nWe can extract a column of data as a Series object:\")\n",
    "print(df['Feature1'])"
   ]
  },
  {
   "cell_type": "code",
   "execution_count": 15,
   "metadata": {
    "collapsed": false
   },
   "outputs": [
    {
     "name": "stdout",
     "output_type": "stream",
     "text": [
      "\n",
      "We can extract a row as a Python dictionary:\n",
      "Feature1              0.6\n",
      "Feature2              0.6\n",
      "DecisionF1F2         True\n",
      "TVShow          Hollyoaks\n",
      "Decision2               1\n",
      "Decision3            True\n",
      "Comment               NaN\n",
      "Name: 0, dtype: object\n"
     ]
    }
   ],
   "source": [
    "row = df.ix[0]\n",
    "print(\"\\nWe can extract a row as a Python dictionary:\")\n",
    "print(row)"
   ]
  },
  {
   "cell_type": "code",
   "execution_count": 16,
   "metadata": {
    "collapsed": false
   },
   "outputs": [
    {
     "name": "stdout",
     "output_type": "stream",
     "text": [
      "\n",
      "Row items, e.g. Feature1=0.6000000000000001\n"
     ]
    }
   ],
   "source": [
    "print(\"\\nRow items, e.g. Feature1={feature1}\".format(feature1=row['Feature1']))"
   ]
  },
  {
   "cell_type": "code",
   "execution_count": 17,
   "metadata": {
    "collapsed": false
   },
   "outputs": [
    {
     "data": {
      "text/plain": [
       "0    1.2\n",
       "1    0.8\n",
       "2    0.6\n",
       "3    1.8\n",
       "4    1.8\n",
       "5    1.8\n",
       "Name: Feature1, dtype: float64"
      ]
     },
     "execution_count": 17,
     "metadata": {},
     "output_type": "execute_result"
    }
   ],
   "source": [
    "def multiply_feature1_by_2(cell):\n",
    "    return cell * 2\n",
    "\n",
    "# we'll apply a function cell-by-cell to each cell in a Series (we pull out the Feature1 Series)\n",
    "df['Feature1'].apply(multiply_feature1_by_2)\n",
    "# note this doesn't change the DataFrame, it generates a new separate Series\n",
    "# and here we just print it and then discard it"
   ]
  },
  {
   "cell_type": "code",
   "execution_count": 20,
   "metadata": {
    "collapsed": false
   },
   "outputs": [
    {
     "data": {
      "text/html": [
       "<div>\n",
       "<table border=\"1\" class=\"dataframe\">\n",
       "  <thead>\n",
       "    <tr style=\"text-align: right;\">\n",
       "      <th></th>\n",
       "      <th>Feature1</th>\n",
       "      <th>Feature2</th>\n",
       "      <th>DecisionF1F2</th>\n",
       "      <th>TVShow</th>\n",
       "      <th>Decision2</th>\n",
       "      <th>Decision3</th>\n",
       "      <th>Comment</th>\n",
       "      <th>Feature1_Times_2</th>\n",
       "    </tr>\n",
       "  </thead>\n",
       "  <tbody>\n",
       "    <tr>\n",
       "      <th>0</th>\n",
       "      <td>0.6</td>\n",
       "      <td>0.6</td>\n",
       "      <td>True</td>\n",
       "      <td>Hollyoaks</td>\n",
       "      <td>1</td>\n",
       "      <td>True</td>\n",
       "      <td>NaN</td>\n",
       "      <td>1.2</td>\n",
       "    </tr>\n",
       "    <tr>\n",
       "      <th>1</th>\n",
       "      <td>0.4</td>\n",
       "      <td>0.6</td>\n",
       "      <td>False</td>\n",
       "      <td>hollyoaks</td>\n",
       "      <td>1</td>\n",
       "      <td>False</td>\n",
       "      <td>NaN</td>\n",
       "      <td>0.8</td>\n",
       "    </tr>\n",
       "    <tr>\n",
       "      <th>2</th>\n",
       "      <td>0.3</td>\n",
       "      <td>0.4</td>\n",
       "      <td>False</td>\n",
       "      <td>Hollyoaks</td>\n",
       "      <td>0</td>\n",
       "      <td>False</td>\n",
       "      <td>trailing-space on TVShow</td>\n",
       "      <td>0.6</td>\n",
       "    </tr>\n",
       "    <tr>\n",
       "      <th>3</th>\n",
       "      <td>0.9</td>\n",
       "      <td>0.8</td>\n",
       "      <td>True</td>\n",
       "      <td>hollyoaks</td>\n",
       "      <td>1</td>\n",
       "      <td>True</td>\n",
       "      <td>NaN</td>\n",
       "      <td>1.8</td>\n",
       "    </tr>\n",
       "    <tr>\n",
       "      <th>4</th>\n",
       "      <td>0.9</td>\n",
       "      <td>0.8</td>\n",
       "      <td>True</td>\n",
       "      <td>holly-oaks</td>\n",
       "      <td>0</td>\n",
       "      <td>False</td>\n",
       "      <td>badly-spelt TVShow</td>\n",
       "      <td>1.8</td>\n",
       "    </tr>\n",
       "    <tr>\n",
       "      <th>5</th>\n",
       "      <td>0.9</td>\n",
       "      <td>0.8</td>\n",
       "      <td>True</td>\n",
       "      <td>best TV shows</td>\n",
       "      <td>0</td>\n",
       "      <td>False</td>\n",
       "      <td>NaN</td>\n",
       "      <td>1.8</td>\n",
       "    </tr>\n",
       "  </tbody>\n",
       "</table>\n",
       "</div>"
      ],
      "text/plain": [
       "   Feature1  Feature2 DecisionF1F2         TVShow  Decision2 Decision3  \\\n",
       "0       0.6       0.6         True      Hollyoaks          1      True   \n",
       "1       0.4       0.6        False      hollyoaks          1     False   \n",
       "2       0.3       0.4        False     Hollyoaks           0     False   \n",
       "3       0.9       0.8         True      hollyoaks          1      True   \n",
       "4       0.9       0.8         True     holly-oaks          0     False   \n",
       "5       0.9       0.8         True  best TV shows          0     False   \n",
       "\n",
       "                    Comment  Feature1_Times_2  \n",
       "0                       NaN               1.2  \n",
       "1                       NaN               0.8  \n",
       "2  trailing-space on TVShow               0.6  \n",
       "3                       NaN               1.8  \n",
       "4        badly-spelt TVShow               1.8  \n",
       "5                       NaN               1.8  "
      ]
     },
     "execution_count": 20,
     "metadata": {},
     "output_type": "execute_result"
    }
   ],
   "source": [
    "# we can assign the result back to the DataFrame as a new column\n",
    "new_result = df['Feature1'].apply(multiply_feature1_by_2)\n",
    "df['Feature1_Times_2'] = new_result\n",
    "df.head(10)"
   ]
  },
  {
   "cell_type": "code",
   "execution_count": null,
   "metadata": {
    "collapsed": true
   },
   "outputs": [],
   "source": []
  }
 ],
 "metadata": {
  "kernelspec": {
   "display_name": "Python 3",
   "language": "python",
   "name": "python3"
  },
  "language_info": {
   "codemirror_mode": {
    "name": "ipython",
    "version": 3
   },
   "file_extension": ".py",
   "mimetype": "text/x-python",
   "name": "python",
   "nbconvert_exporter": "python",
   "pygments_lexer": "ipython3",
   "version": "3.4.4"
  }
 },
 "nbformat": 4,
 "nbformat_minor": 0
}
